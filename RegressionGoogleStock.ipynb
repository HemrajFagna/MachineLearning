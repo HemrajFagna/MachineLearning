{
 "cells": [
  {
   "cell_type": "code",
   "execution_count": 23,
   "metadata": {},
   "outputs": [],
   "source": [
    "import pandas as pd \n",
    "import quandl\n",
    "import math\n",
    "from sklearn import preprocessing, cross_validation, svm\n",
    "from sklearn.linear_model import LinearRegression\n",
    "import numpy as np\n",
    "import matplotlib.pyplot as plt\n",
    "from matplotlib import style\n",
    "import pickle\n",
    "style.use('ggplot')"
   ]
  },
  {
   "cell_type": "code",
   "execution_count": 24,
   "metadata": {
    "scrolled": true
   },
   "outputs": [
    {
     "data": {
      "text/html": [
       "<div>\n",
       "<style scoped>\n",
       "    .dataframe tbody tr th:only-of-type {\n",
       "        vertical-align: middle;\n",
       "    }\n",
       "\n",
       "    .dataframe tbody tr th {\n",
       "        vertical-align: top;\n",
       "    }\n",
       "\n",
       "    .dataframe thead th {\n",
       "        text-align: right;\n",
       "    }\n",
       "</style>\n",
       "<table border=\"1\" class=\"dataframe\">\n",
       "  <thead>\n",
       "    <tr style=\"text-align: right;\">\n",
       "      <th></th>\n",
       "      <th>Open</th>\n",
       "      <th>High</th>\n",
       "      <th>Low</th>\n",
       "      <th>Close</th>\n",
       "      <th>Volume</th>\n",
       "      <th>Ex-Dividend</th>\n",
       "      <th>Split Ratio</th>\n",
       "      <th>Adj. Open</th>\n",
       "      <th>Adj. High</th>\n",
       "      <th>Adj. Low</th>\n",
       "      <th>Adj. Close</th>\n",
       "      <th>Adj. Volume</th>\n",
       "    </tr>\n",
       "    <tr>\n",
       "      <th>Date</th>\n",
       "      <th></th>\n",
       "      <th></th>\n",
       "      <th></th>\n",
       "      <th></th>\n",
       "      <th></th>\n",
       "      <th></th>\n",
       "      <th></th>\n",
       "      <th></th>\n",
       "      <th></th>\n",
       "      <th></th>\n",
       "      <th></th>\n",
       "      <th></th>\n",
       "    </tr>\n",
       "  </thead>\n",
       "  <tbody>\n",
       "    <tr>\n",
       "      <th>2004-08-19</th>\n",
       "      <td>100.01</td>\n",
       "      <td>104.06</td>\n",
       "      <td>95.96</td>\n",
       "      <td>100.335</td>\n",
       "      <td>44659000.0</td>\n",
       "      <td>0.0</td>\n",
       "      <td>1.0</td>\n",
       "      <td>50.159839</td>\n",
       "      <td>52.191109</td>\n",
       "      <td>48.128568</td>\n",
       "      <td>50.322842</td>\n",
       "      <td>44659000.0</td>\n",
       "    </tr>\n",
       "    <tr>\n",
       "      <th>2004-08-20</th>\n",
       "      <td>101.01</td>\n",
       "      <td>109.08</td>\n",
       "      <td>100.50</td>\n",
       "      <td>108.310</td>\n",
       "      <td>22834300.0</td>\n",
       "      <td>0.0</td>\n",
       "      <td>1.0</td>\n",
       "      <td>50.661387</td>\n",
       "      <td>54.708881</td>\n",
       "      <td>50.405597</td>\n",
       "      <td>54.322689</td>\n",
       "      <td>22834300.0</td>\n",
       "    </tr>\n",
       "    <tr>\n",
       "      <th>2004-08-23</th>\n",
       "      <td>110.76</td>\n",
       "      <td>113.48</td>\n",
       "      <td>109.05</td>\n",
       "      <td>109.400</td>\n",
       "      <td>18256100.0</td>\n",
       "      <td>0.0</td>\n",
       "      <td>1.0</td>\n",
       "      <td>55.551482</td>\n",
       "      <td>56.915693</td>\n",
       "      <td>54.693835</td>\n",
       "      <td>54.869377</td>\n",
       "      <td>18256100.0</td>\n",
       "    </tr>\n",
       "    <tr>\n",
       "      <th>2004-08-24</th>\n",
       "      <td>111.24</td>\n",
       "      <td>111.60</td>\n",
       "      <td>103.57</td>\n",
       "      <td>104.870</td>\n",
       "      <td>15247300.0</td>\n",
       "      <td>0.0</td>\n",
       "      <td>1.0</td>\n",
       "      <td>55.792225</td>\n",
       "      <td>55.972783</td>\n",
       "      <td>51.945350</td>\n",
       "      <td>52.597363</td>\n",
       "      <td>15247300.0</td>\n",
       "    </tr>\n",
       "    <tr>\n",
       "      <th>2004-08-25</th>\n",
       "      <td>104.76</td>\n",
       "      <td>108.00</td>\n",
       "      <td>103.88</td>\n",
       "      <td>106.000</td>\n",
       "      <td>9188600.0</td>\n",
       "      <td>0.0</td>\n",
       "      <td>1.0</td>\n",
       "      <td>52.542193</td>\n",
       "      <td>54.167209</td>\n",
       "      <td>52.100830</td>\n",
       "      <td>53.164113</td>\n",
       "      <td>9188600.0</td>\n",
       "    </tr>\n",
       "  </tbody>\n",
       "</table>\n",
       "</div>"
      ],
      "text/plain": [
       "              Open    High     Low    Close      Volume  Ex-Dividend  \\\n",
       "Date                                                                   \n",
       "2004-08-19  100.01  104.06   95.96  100.335  44659000.0          0.0   \n",
       "2004-08-20  101.01  109.08  100.50  108.310  22834300.0          0.0   \n",
       "2004-08-23  110.76  113.48  109.05  109.400  18256100.0          0.0   \n",
       "2004-08-24  111.24  111.60  103.57  104.870  15247300.0          0.0   \n",
       "2004-08-25  104.76  108.00  103.88  106.000   9188600.0          0.0   \n",
       "\n",
       "            Split Ratio  Adj. Open  Adj. High   Adj. Low  Adj. Close  \\\n",
       "Date                                                                   \n",
       "2004-08-19          1.0  50.159839  52.191109  48.128568   50.322842   \n",
       "2004-08-20          1.0  50.661387  54.708881  50.405597   54.322689   \n",
       "2004-08-23          1.0  55.551482  56.915693  54.693835   54.869377   \n",
       "2004-08-24          1.0  55.792225  55.972783  51.945350   52.597363   \n",
       "2004-08-25          1.0  52.542193  54.167209  52.100830   53.164113   \n",
       "\n",
       "            Adj. Volume  \n",
       "Date                     \n",
       "2004-08-19   44659000.0  \n",
       "2004-08-20   22834300.0  \n",
       "2004-08-23   18256100.0  \n",
       "2004-08-24   15247300.0  \n",
       "2004-08-25    9188600.0  "
      ]
     },
     "execution_count": 24,
     "metadata": {},
     "output_type": "execute_result"
    }
   ],
   "source": [
    "df = quandl.get('WIKI/GOOGL')\n",
    "df2 = df\n",
    "df.head()"
   ]
  },
  {
   "cell_type": "code",
   "execution_count": 25,
   "metadata": {},
   "outputs": [
    {
     "name": "stderr",
     "output_type": "stream",
     "text": [
      "E:\\Program Files\\Anaconda3\\lib\\site-packages\\ipykernel_launcher.py:2: SettingWithCopyWarning: \n",
      "A value is trying to be set on a copy of a slice from a DataFrame.\n",
      "Try using .loc[row_indexer,col_indexer] = value instead\n",
      "\n",
      "See the caveats in the documentation: http://pandas.pydata.org/pandas-docs/stable/indexing.html#indexing-view-versus-copy\n",
      "  \n",
      "E:\\Program Files\\Anaconda3\\lib\\site-packages\\ipykernel_launcher.py:3: SettingWithCopyWarning: \n",
      "A value is trying to be set on a copy of a slice from a DataFrame.\n",
      "Try using .loc[row_indexer,col_indexer] = value instead\n",
      "\n",
      "See the caveats in the documentation: http://pandas.pydata.org/pandas-docs/stable/indexing.html#indexing-view-versus-copy\n",
      "  This is separate from the ipykernel package so we can avoid doing imports until\n"
     ]
    },
    {
     "data": {
      "text/html": [
       "<div>\n",
       "<style scoped>\n",
       "    .dataframe tbody tr th:only-of-type {\n",
       "        vertical-align: middle;\n",
       "    }\n",
       "\n",
       "    .dataframe tbody tr th {\n",
       "        vertical-align: top;\n",
       "    }\n",
       "\n",
       "    .dataframe thead th {\n",
       "        text-align: right;\n",
       "    }\n",
       "</style>\n",
       "<table border=\"1\" class=\"dataframe\">\n",
       "  <thead>\n",
       "    <tr style=\"text-align: right;\">\n",
       "      <th></th>\n",
       "      <th>Adj. Close</th>\n",
       "      <th>HL_PCT</th>\n",
       "      <th>PCT_change</th>\n",
       "      <th>Adj. Volume</th>\n",
       "    </tr>\n",
       "    <tr>\n",
       "      <th>Date</th>\n",
       "      <th></th>\n",
       "      <th></th>\n",
       "      <th></th>\n",
       "      <th></th>\n",
       "    </tr>\n",
       "  </thead>\n",
       "  <tbody>\n",
       "    <tr>\n",
       "      <th>2004-08-19</th>\n",
       "      <td>50.322842</td>\n",
       "      <td>3.712563</td>\n",
       "      <td>0.324968</td>\n",
       "      <td>44659000.0</td>\n",
       "    </tr>\n",
       "    <tr>\n",
       "      <th>2004-08-20</th>\n",
       "      <td>54.322689</td>\n",
       "      <td>0.710922</td>\n",
       "      <td>7.227007</td>\n",
       "      <td>22834300.0</td>\n",
       "    </tr>\n",
       "    <tr>\n",
       "      <th>2004-08-23</th>\n",
       "      <td>54.869377</td>\n",
       "      <td>3.729433</td>\n",
       "      <td>-1.227880</td>\n",
       "      <td>18256100.0</td>\n",
       "    </tr>\n",
       "    <tr>\n",
       "      <th>2004-08-24</th>\n",
       "      <td>52.597363</td>\n",
       "      <td>6.417469</td>\n",
       "      <td>-5.726357</td>\n",
       "      <td>15247300.0</td>\n",
       "    </tr>\n",
       "    <tr>\n",
       "      <th>2004-08-25</th>\n",
       "      <td>53.164113</td>\n",
       "      <td>1.886792</td>\n",
       "      <td>1.183658</td>\n",
       "      <td>9188600.0</td>\n",
       "    </tr>\n",
       "  </tbody>\n",
       "</table>\n",
       "</div>"
      ],
      "text/plain": [
       "            Adj. Close    HL_PCT  PCT_change  Adj. Volume\n",
       "Date                                                     \n",
       "2004-08-19   50.322842  3.712563    0.324968   44659000.0\n",
       "2004-08-20   54.322689  0.710922    7.227007   22834300.0\n",
       "2004-08-23   54.869377  3.729433   -1.227880   18256100.0\n",
       "2004-08-24   52.597363  6.417469   -5.726357   15247300.0\n",
       "2004-08-25   53.164113  1.886792    1.183658    9188600.0"
      ]
     },
     "execution_count": 25,
     "metadata": {},
     "output_type": "execute_result"
    }
   ],
   "source": [
    "df = df[['Adj. Open','Adj. High','Adj. Low','Adj. Close','Adj. Volume']]\n",
    "df['HL_PCT'] = (df['Adj. High'] - df['Adj. Close'])/ df['Adj. Close'] * 100\n",
    "df['PCT_change'] = (df['Adj. Close'] - df['Adj. Open'])/ df['Adj. Open'] * 100\n",
    "df = df[['Adj. Close','HL_PCT','PCT_change','Adj. Volume']]\n",
    "df.head()"
   ]
  },
  {
   "cell_type": "code",
   "execution_count": 26,
   "metadata": {},
   "outputs": [
    {
     "name": "stdout",
     "output_type": "stream",
     "text": [
      "            Adj. Close    HL_PCT  PCT_change  Adj. Volume      label\n",
      "Date                                                                \n",
      "2004-08-19   50.322842  3.712563    0.324968   44659000.0  69.078238\n",
      "2004-08-20   54.322689  0.710922    7.227007   22834300.0  67.839414\n",
      "2004-08-23   54.869377  3.729433   -1.227880   18256100.0  68.912727\n",
      "2004-08-24   52.597363  6.417469   -5.726357   15247300.0  70.668146\n",
      "2004-08-25   53.164113  1.886792    1.183658    9188600.0  71.219849\n"
     ]
    },
    {
     "data": {
      "text/html": [
       "<div>\n",
       "<style scoped>\n",
       "    .dataframe tbody tr th:only-of-type {\n",
       "        vertical-align: middle;\n",
       "    }\n",
       "\n",
       "    .dataframe tbody tr th {\n",
       "        vertical-align: top;\n",
       "    }\n",
       "\n",
       "    .dataframe thead th {\n",
       "        text-align: right;\n",
       "    }\n",
       "</style>\n",
       "<table border=\"1\" class=\"dataframe\">\n",
       "  <thead>\n",
       "    <tr style=\"text-align: right;\">\n",
       "      <th></th>\n",
       "      <th>Adj. Close</th>\n",
       "      <th>HL_PCT</th>\n",
       "      <th>PCT_change</th>\n",
       "      <th>Adj. Volume</th>\n",
       "      <th>label</th>\n",
       "    </tr>\n",
       "    <tr>\n",
       "      <th>Date</th>\n",
       "      <th></th>\n",
       "      <th></th>\n",
       "      <th></th>\n",
       "      <th></th>\n",
       "      <th></th>\n",
       "    </tr>\n",
       "  </thead>\n",
       "  <tbody>\n",
       "    <tr>\n",
       "      <th>2018-03-21</th>\n",
       "      <td>1094.00</td>\n",
       "      <td>1.343693</td>\n",
       "      <td>0.130884</td>\n",
       "      <td>1990515.0</td>\n",
       "      <td>NaN</td>\n",
       "    </tr>\n",
       "    <tr>\n",
       "      <th>2018-03-22</th>\n",
       "      <td>1053.15</td>\n",
       "      <td>2.921711</td>\n",
       "      <td>-2.487014</td>\n",
       "      <td>3418154.0</td>\n",
       "      <td>NaN</td>\n",
       "    </tr>\n",
       "    <tr>\n",
       "      <th>2018-03-23</th>\n",
       "      <td>1026.55</td>\n",
       "      <td>3.918952</td>\n",
       "      <td>-2.360729</td>\n",
       "      <td>2413517.0</td>\n",
       "      <td>NaN</td>\n",
       "    </tr>\n",
       "    <tr>\n",
       "      <th>2018-03-26</th>\n",
       "      <td>1054.09</td>\n",
       "      <td>0.491419</td>\n",
       "      <td>0.332191</td>\n",
       "      <td>3272409.0</td>\n",
       "      <td>NaN</td>\n",
       "    </tr>\n",
       "    <tr>\n",
       "      <th>2018-03-27</th>\n",
       "      <td>1006.94</td>\n",
       "      <td>5.720301</td>\n",
       "      <td>-5.353887</td>\n",
       "      <td>2940957.0</td>\n",
       "      <td>NaN</td>\n",
       "    </tr>\n",
       "  </tbody>\n",
       "</table>\n",
       "</div>"
      ],
      "text/plain": [
       "            Adj. Close    HL_PCT  PCT_change  Adj. Volume  label\n",
       "Date                                                            \n",
       "2018-03-21     1094.00  1.343693    0.130884    1990515.0    NaN\n",
       "2018-03-22     1053.15  2.921711   -2.487014    3418154.0    NaN\n",
       "2018-03-23     1026.55  3.918952   -2.360729    2413517.0    NaN\n",
       "2018-03-26     1054.09  0.491419    0.332191    3272409.0    NaN\n",
       "2018-03-27     1006.94  5.720301   -5.353887    2940957.0    NaN"
      ]
     },
     "execution_count": 26,
     "metadata": {},
     "output_type": "execute_result"
    }
   ],
   "source": [
    "forecast = 'Adj. Close'\n",
    "df.fillna(-99999, inplace=True)\n",
    "forecast_out = int(math.ceil(0.01*len(df)))\n",
    "df['label'] = df[forecast].shift(-forecast_out)\n",
    "print(df.head())\n",
    "df.tail()"
   ]
  },
  {
   "cell_type": "code",
   "execution_count": 27,
   "metadata": {},
   "outputs": [
    {
     "name": "stdout",
     "output_type": "stream",
     "text": [
      "            Adj. Close    HL_PCT  PCT_change  Adj. Volume    label\n",
      "Date                                                              \n",
      "2018-01-30     1177.37  0.896914   -0.029718    1792602.0  1094.00\n",
      "2018-01-31     1182.22  0.346805   -0.134312    1643877.0  1053.15\n",
      "2018-02-01     1181.59  0.495942    0.476195    2774967.0  1026.55\n",
      "2018-02-02     1119.20  1.081129   -0.729098    5798880.0  1054.09\n",
      "2018-02-05     1068.76  4.325574   -2.893850    3742469.0  1006.94\n",
      "35\n",
      "3389 3389\n",
      "[1101.4074668  1072.83967203 1020.51359784 1060.50746592 1072.79724839\n",
      " 1072.932546   1091.38787948 1110.69282382 1114.11412293 1122.09867973\n",
      " 1131.58739949 1129.01234183 1148.07531335 1163.69587203 1136.03448527\n",
      " 1122.18331788 1088.42115668 1102.48787248 1113.60649603 1120.68730224\n",
      " 1134.3189964  1149.08549849 1180.49902978 1185.28888638 1157.85587429\n",
      " 1168.15467063 1170.01485045 1153.13213667 1118.45503935 1114.60533352\n",
      " 1112.44647102 1070.19255426 1042.66603466 1072.49826042 1022.0788597 ] \n",
      " 0.9807431828729033\n"
     ]
    }
   ],
   "source": [
    "X = np.array(df.drop(['label'],1))\n",
    "X = preprocessing.scale(X)\n",
    "\n",
    "\n",
    "#print(X[:10])\n",
    "X_lately = X[-forecast_out:] # value in X except last len(forecast_out) rows as to match with label y\n",
    "X = X[:-forecast_out] # values for label column will be predicted against these last len(forecast_out) values \n",
    "\n",
    "\n",
    "df.dropna(inplace=True)# drop last  len(forecast_out) rows as label is NaN \n",
    "print(df.tail())\n",
    "y = np.array(df['label']) # data y is consistent with X\n",
    "\n",
    "print(forecast_out)\n",
    "print(len(X),len(y))\n",
    "#print(\"After preprocessing\", X[:10])\n",
    "X_train, X_test, y_train, y_test = cross_validation.train_test_split(X,y, test_size = 0.2)\n",
    "\n",
    "#clf = LinearRegression()\n",
    "#clf.fit(X_train,y_train)\n",
    "\n",
    "#with open('reg-stock-training-data.pickle','wb') as f:\n",
    "#    pickle.dump(clf,f)\n",
    "\n",
    "# dump trained data into pickle file and use it again and again, so our model will not get trained everytime \n",
    "\n",
    "pickle_in = open('reg-stock-training-data.pickle','rb')\n",
    "clf = pickle.load(pickle_in)    \n",
    "    \n",
    "accuracy = clf.score(X_test, y_test)\n",
    "predicted = clf.predict(X_lately)\n",
    "\n",
    "print(predicted,'\\n',accuracy)"
   ]
  },
  {
   "cell_type": "code",
   "execution_count": 37,
   "metadata": {},
   "outputs": [
    {
     "data": {
      "text/plain": [
       "Date\n",
       "2018-02-06 05:30:00   NaN\n",
       "2018-02-07 05:30:00   NaN\n",
       "2018-02-08 05:30:00   NaN\n",
       "2018-02-09 05:30:00   NaN\n",
       "2018-02-10 05:30:00   NaN\n",
       "2018-02-11 05:30:00   NaN\n",
       "2018-02-12 05:30:00   NaN\n",
       "2018-02-13 05:30:00   NaN\n",
       "2018-02-14 05:30:00   NaN\n",
       "2018-02-15 05:30:00   NaN\n",
       "2018-02-16 05:30:00   NaN\n",
       "2018-02-17 05:30:00   NaN\n",
       "2018-02-18 05:30:00   NaN\n",
       "2018-02-19 05:30:00   NaN\n",
       "2018-02-20 05:30:00   NaN\n",
       "2018-02-21 05:30:00   NaN\n",
       "2018-02-22 05:30:00   NaN\n",
       "2018-02-23 05:30:00   NaN\n",
       "2018-02-24 05:30:00   NaN\n",
       "2018-02-25 05:30:00   NaN\n",
       "2018-02-26 05:30:00   NaN\n",
       "2018-02-27 05:30:00   NaN\n",
       "2018-02-28 05:30:00   NaN\n",
       "2018-03-01 05:30:00   NaN\n",
       "2018-03-02 05:30:00   NaN\n",
       "2018-03-03 05:30:00   NaN\n",
       "2018-03-04 05:30:00   NaN\n",
       "2018-03-05 05:30:00   NaN\n",
       "2018-03-06 05:30:00   NaN\n",
       "2018-03-07 05:30:00   NaN\n",
       "2018-03-08 05:30:00   NaN\n",
       "2018-03-09 05:30:00   NaN\n",
       "2018-03-10 05:30:00   NaN\n",
       "2018-03-11 05:30:00   NaN\n",
       "2018-03-12 05:30:00   NaN\n",
       "Name: PCT_change_predicted, dtype: float64"
      ]
     },
     "execution_count": 37,
     "metadata": {},
     "output_type": "execute_result"
    }
   ],
   "source": [
    "df['PCT_change_predicted'] = (df['label'] - df2['Adj. Open'])/ df2['Adj. Open'] * 100\n",
    "df['PCT_change_predicted'][-35:]\n"
   ]
  },
  {
   "cell_type": "code",
   "execution_count": null,
   "metadata": {},
   "outputs": [],
   "source": []
  },
  {
   "cell_type": "code",
   "execution_count": 29,
   "metadata": {
    "scrolled": true
   },
   "outputs": [
    {
     "name": "stdout",
     "output_type": "stream",
     "text": [
      "2018-02-05 00:00:00\n"
     ]
    },
    {
     "data": {
      "text/plain": [
       "1517788800.0"
      ]
     },
     "execution_count": 29,
     "metadata": {},
     "output_type": "execute_result"
    }
   ],
   "source": [
    "import datetime\n",
    "last_date = df.iloc[-1].name\n",
    "print(last_date)\n",
    "last_unix = last_date.timestamp()\n",
    "last_unix"
   ]
  },
  {
   "cell_type": "code",
   "execution_count": 30,
   "metadata": {
    "scrolled": false
   },
   "outputs": [
    {
     "data": {
      "image/png": "[encoded data removed]",
      "text/plain": [
       "<matplotlib.figure.Figure at 0xd150048>"
      ]
     },
     "metadata": {},
     "output_type": "display_data"
    }
   ],
   "source": [
    "one_day = 86400\n",
    "next_unix = last_unix + one_day\n",
    "\n",
    "df['Forecast'] = np.nan\n",
    "\n",
    "for i in predicted:\n",
    "    next_date = datetime.datetime.fromtimestamp(next_unix)\n",
    "    next_unix += one_day\n",
    "    df.loc[next_date] = [np.nan for _ in range(len(df.columns) -1)] + [i]\n",
    "    \n",
    "df['Adj. Close'].plot()\n",
    "df['Forecast'].plot()\n",
    "plt.xlabel('Date')\n",
    "plt.ylabel('Price')\n",
    "plt.legend()\n",
    "plt.show()\n",
    "\n",
    "    "
   ]
  },
  {
   "cell_type": "code",
   "execution_count": 31,
   "metadata": {},
   "outputs": [
    {
     "data": {
      "text/plain": [
       "<matplotlib.axes._subplots.AxesSubplot at 0xd120a20>"
      ]
     },
     "execution_count": 31,
     "metadata": {},
     "output_type": "execute_result"
    },
    {
     "data": {
      "image/png": "[encoded data removed]",
      "text/plain": [
       "<matplotlib.figure.Figure at 0xd1902b0>"
      ]
     },
     "metadata": {},
     "output_type": "display_data"
    }
   ],
   "source": [
    "df['Forecast'].plot()"
   ]
  },
  {
   "cell_type": "code",
   "execution_count": 32,
   "metadata": {},
   "outputs": [
    {
     "data": {
      "text/plain": [
       "3424"
      ]
     },
     "execution_count": 32,
     "metadata": {},
     "output_type": "execute_result"
    }
   ],
   "source": [
    "len(df['Forecast'])"
   ]
  },
  {
   "cell_type": "code",
   "execution_count": 33,
   "metadata": {},
   "outputs": [
    {
     "data": {
      "text/plain": [
       "Date\n",
       "2004-08-19   NaN\n",
       "2004-08-20   NaN\n",
       "2004-08-23   NaN\n",
       "2004-08-24   NaN\n",
       "2004-08-25   NaN\n",
       "2004-08-26   NaN\n",
       "2004-08-27   NaN\n",
       "2004-08-30   NaN\n",
       "2004-08-31   NaN\n",
       "2004-09-01   NaN\n",
       "2004-09-02   NaN\n",
       "2004-09-03   NaN\n",
       "2004-09-07   NaN\n",
       "2004-09-08   NaN\n",
       "2004-09-09   NaN\n",
       "2004-09-10   NaN\n",
       "2004-09-13   NaN\n",
       "2004-09-14   NaN\n",
       "2004-09-15   NaN\n",
       "2004-09-16   NaN\n",
       "2004-09-17   NaN\n",
       "2004-09-20   NaN\n",
       "2004-09-21   NaN\n",
       "2004-09-22   NaN\n",
       "2004-09-23   NaN\n",
       "2004-09-24   NaN\n",
       "2004-09-27   NaN\n",
       "2004-09-28   NaN\n",
       "2004-09-29   NaN\n",
       "2004-09-30   NaN\n",
       "              ..\n",
       "2004-11-29   NaN\n",
       "2004-11-30   NaN\n",
       "2004-12-01   NaN\n",
       "2004-12-02   NaN\n",
       "2004-12-03   NaN\n",
       "2004-12-06   NaN\n",
       "2004-12-07   NaN\n",
       "2004-12-08   NaN\n",
       "2004-12-09   NaN\n",
       "2004-12-10   NaN\n",
       "2004-12-13   NaN\n",
       "2004-12-14   NaN\n",
       "2004-12-15   NaN\n",
       "2004-12-16   NaN\n",
       "2004-12-17   NaN\n",
       "2004-12-20   NaN\n",
       "2004-12-21   NaN\n",
       "2004-12-22   NaN\n",
       "2004-12-23   NaN\n",
       "2004-12-27   NaN\n",
       "2004-12-28   NaN\n",
       "2004-12-29   NaN\n",
       "2004-12-30   NaN\n",
       "2004-12-31   NaN\n",
       "2005-01-03   NaN\n",
       "2005-01-04   NaN\n",
       "2005-01-05   NaN\n",
       "2005-01-06   NaN\n",
       "2005-01-07   NaN\n",
       "2005-01-10   NaN\n",
       "Name: Forecast, Length: 100, dtype: float64"
      ]
     },
     "execution_count": 33,
     "metadata": {},
     "output_type": "execute_result"
    }
   ],
   "source": [
    "df['Forecast'][:100]"
   ]
  },
  {
   "cell_type": "code",
   "execution_count": 34,
   "metadata": {},
   "outputs": [
    {
     "data": {
      "text/plain": [
       "Date\n",
       "2018-01-30 00:00:00            NaN\n",
       "2018-01-31 00:00:00            NaN\n",
       "2018-02-01 00:00:00            NaN\n",
       "2018-02-02 00:00:00            NaN\n",
       "2018-02-05 00:00:00            NaN\n",
       "2018-02-06 05:30:00    1101.407467\n",
       "2018-02-07 05:30:00    1072.839672\n",
       "2018-02-08 05:30:00    1020.513598\n",
       "2018-02-09 05:30:00    1060.507466\n",
       "2018-02-10 05:30:00    1072.797248\n",
       "2018-02-11 05:30:00    1072.932546\n",
       "2018-02-12 05:30:00    1091.387879\n",
       "2018-02-13 05:30:00    1110.692824\n",
       "2018-02-14 05:30:00    1114.114123\n",
       "2018-02-15 05:30:00    1122.098680\n",
       "2018-02-16 05:30:00    1131.587399\n",
       "2018-02-17 05:30:00    1129.012342\n",
       "2018-02-18 05:30:00    1148.075313\n",
       "2018-02-19 05:30:00    1163.695872\n",
       "2018-02-20 05:30:00    1136.034485\n",
       "2018-02-21 05:30:00    1122.183318\n",
       "2018-02-22 05:30:00    1088.421157\n",
       "2018-02-23 05:30:00    1102.487872\n",
       "2018-02-24 05:30:00    1113.606496\n",
       "2018-02-25 05:30:00    1120.687302\n",
       "2018-02-26 05:30:00    1134.318996\n",
       "2018-02-27 05:30:00    1149.085498\n",
       "2018-02-28 05:30:00    1180.499030\n",
       "2018-03-01 05:30:00    1185.288886\n",
       "2018-03-02 05:30:00    1157.855874\n",
       "2018-03-03 05:30:00    1168.154671\n",
       "2018-03-04 05:30:00    1170.014850\n",
       "2018-03-05 05:30:00    1153.132137\n",
       "2018-03-06 05:30:00    1118.455039\n",
       "2018-03-07 05:30:00    1114.605334\n",
       "2018-03-08 05:30:00    1112.446471\n",
       "2018-03-09 05:30:00    1070.192554\n",
       "2018-03-10 05:30:00    1042.666035\n",
       "2018-03-11 05:30:00    1072.498260\n",
       "2018-03-12 05:30:00    1022.078860\n",
       "Name: Forecast, dtype: float64"
      ]
     },
     "execution_count": 34,
     "metadata": {},
     "output_type": "execute_result"
    }
   ],
   "source": [
    "df['Forecast'][-40:]"
   ]
  },
  {
   "cell_type": "code",
   "execution_count": null,
   "metadata": {},
   "outputs": [],
   "source": []
  },
  {
   "cell_type": "code",
   "execution_count": 35,
   "metadata": {
    "scrolled": false
   },
   "outputs": [
    {
     "name": "stdout",
     "output_type": "stream",
     "text": [
      "0.00026014568158168577\n",
      "R =  0.9997398543184183\n"
     ]
    },
    {
     "data": {
      "image/png": "[encoded data removed]",
      "text/plain": [
       "<matplotlib.figure.Figure at 0xd013390>"
      ]
     },
     "metadata": {},
     "output_type": "display_data"
    }
   ],
   "source": [
    "#Implementation of linear regression \n",
    "# Plot regression line using formula \n",
    "\n",
    "from statistics import mean\n",
    "import numpy as np\n",
    "import matplotlib.pyplot as plt\n",
    "from matplotlib import style\n",
    "import random\n",
    "style.use('fivethirtyeight')\n",
    "\n",
    "#xs = np.array([1,2,3,4,5,6,7,8,9], dtype = np.float64)\n",
    "#ys = np.array([3,5,2,7,4,8,11,12,8], dtype = np.float64)  R = 0.91 higher value indicates best fit\n",
    "\n",
    "#xs = np.array([1,2,3,4,5,6,7,8,9], dtype = np.float64)\n",
    "#ys = np.array([3,15,2,7,4,18,11,12,8], dtype = np.float64) #R = -0.5625 indicating the worst fit\n",
    "\n",
    "#xs = np.array([1,2,3,4,5,6,7,8,9], dtype = np.float64)\n",
    "#ys = np.array([1,4,9,16,25,36,49,64,81], dtype = np.float64) R = 0.859375\n",
    "\n",
    "#creating dataset xs, ys for diff test cases\n",
    "\n",
    "def create_dataset(hm, variance, step =2, correlation=False):\n",
    "    val = 1\n",
    "    ys = []\n",
    "    for i in range(hm):\n",
    "        y = val + random.randrange(-variance, variance)\n",
    "        ys.append(y)\n",
    "        if correlation and correlation == 'pos':\n",
    "            val += step\n",
    "        elif correlation and correlation == 'neg':\n",
    "            val -= step\n",
    "    \n",
    "    xs = [i for i in range(len(ys))]\n",
    "    return np.array(xs, dtype = np.float64), np.array(ys, dtype = np.float64)\n",
    "\n",
    "def best_fit_line(xs,ys):\n",
    "    m = ( mean(xs)*mean(ys) - mean(xs*ys) ) / (mean(xs)*mean(xs) - mean(xs*xs))\n",
    "    b = mean(ys) - m*mean(xs)\n",
    "    return m,b\n",
    "\n",
    "def squared_error(y_orig, y_line):\n",
    "    return sum(y_line - y_orig)**2\n",
    "\n",
    "def coefficient_of_determination(y_orig, y_line):\n",
    "    y_mean_line = [mean(y_orig) for y in y_orig] # loop, so that our y_mean_line is compatible or of same  lenght as of y_orig\n",
    "    squared_error_y_line = squared_error(y_orig, y_line)\n",
    "    squared_error_y_mean = squared_error(y_orig, y_mean_line)\n",
    "    print(squared_error_y_line/squared_error_y_mean)\n",
    "    return 1 - (squared_error_y_line/squared_error_y_mean)\n",
    "\n",
    "\n",
    "xs, ys = create_dataset(40, 10, 2, correlation = 'pos')\n",
    "\n",
    "\n",
    "\n",
    "m,b = best_fit_line(xs,ys)\n",
    "\n",
    "reg_line = [m*x + b for x in xs]\n",
    "\n",
    "predict_for = [2.5, 12, 8.8, 13]\n",
    "predicted = [m*i + b for i in predict_for]\n",
    "\n",
    "r_squared_error = coefficient_of_determination(ys, reg_line)\n",
    "print(\"R = \",r_squared_error)\n",
    "\n",
    "plt.scatter(xs,ys)\n",
    "plt.plot(xs,reg_line,'r')\n",
    "plt.scatter(predict_for, predicted, s = 100, color = 'g')\n",
    "plt.show()\n",
    "\n"
   ]
  },
  {
   "cell_type": "code",
   "execution_count": null,
   "metadata": {},
   "outputs": [],
   "source": []
  }
 ],
 "metadata": {
  "kernelspec": {
   "display_name": "Python 3",
   "language": "python",
   "name": "python3"
  },
  "language_info": {
   "codemirror_mode": {
    "name": "ipython",
    "version": 3
   },
   "file_extension": ".py",
   "mimetype": "text/x-python",
   "name": "python",
   "nbconvert_exporter": "python",
   "pygments_lexer": "ipython3",
   "version": "3.6.4"
  }
 },
 "nbformat": 4,
 "nbformat_minor": 2
}
