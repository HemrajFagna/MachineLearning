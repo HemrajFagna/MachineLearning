{
 "cells": [
  {
   "cell_type": "code",
   "execution_count": 1,
   "metadata": {},
   "outputs": [
    {
     "name": "stderr",
     "output_type": "stream",
     "text": [
      "E:\\Program Files\\Anaconda3\\lib\\site-packages\\sklearn\\cross_validation.py:41: DeprecationWarning: This module was deprecated in version 0.18 in favor of the model_selection module into which all the refactored classes and functions are moved. Also note that the interface of the new CV iterators are different from that of this module. This module will be removed in 0.20.\n",
      "  \"This module will be removed in 0.20.\", DeprecationWarning)\n"
     ]
    },
    {
     "name": "stdout",
     "output_type": "stream",
     "text": [
      "0.9428571428571428 [2 4]\n"
     ]
    }
   ],
   "source": [
    "import numpy as np\n",
    "from sklearn import preprocessing, cross_validation, neighbors\n",
    "import pandas as pd\n",
    "\n",
    "\n",
    "df = pd.read_csv('breast-cancer-wisconsin.data.txt')\n",
    "df.replace('?', -99999, inplace=True)\n",
    "df.drop(['id'], 1, inplace=True) # Accuracy by including id is 0.6071428571428571, 60% \n",
    "                                 # whereas it is 0.9785714285714285, 97% by droping it\n",
    "\n",
    "X = np.array(df.drop( ['class'], 1))\n",
    "y = np.array(df['class'])\n",
    "\n",
    "X_train, X_test, y_train, y_test = cross_validation.train_test_split(X, y, test_size= 0.2)\n",
    "\n",
    "clf = neighbors.KNeighborsClassifier()\n",
    "clf.fit(X_train, y_train)\n",
    "accuracy = clf.score(X_test, y_test)\n",
    "\n",
    "predict_for = np.array([ [4,2,3,1,2,2,5,3,2], [4,2,3,4,10,4,5,10,8] ])\n",
    "predict_for = predict_for.reshape(len(predict_for),-1)\n",
    "prediction = clf.predict(predict_for)\n",
    "\n",
    "print(accuracy, prediction)"
   ]
  },
  {
   "cell_type": "code",
   "execution_count": 3,
   "metadata": {},
   "outputs": [
    {
     "data": {
      "image/png": "[encoded data removed]",
      "text/plain": [
       "<matplotlib.figure.Figure at 0x9da3a20>"
      ]
     },
     "metadata": {},
     "output_type": "display_data"
    }
   ],
   "source": [
    "# Applying our implemented KNN on Cancer Dataset \n",
    "\n",
    "import numpy as np\n",
    "import matplotlib.pyplot as plt\n",
    "import warnings\n",
    "from matplotlib import style \n",
    "from collections import Counter\n",
    "style.use('fivethirtyeight')\n",
    "\n",
    "dataset = {'k':[[1,2],[3,5],[4,7]], 'r':[[5,2],[6,9],[3,7]]}\n",
    "predict_for = [5,8]\n",
    "\n",
    "def k_nearest_neighbors(data, predict, k=3):\n",
    "    if len(data) > k:\n",
    "        warnings.warn('K is said to a value less than voting groups')\n",
    "    \n",
    "    distances = []\n",
    "    for group in data:\n",
    "        for features in data[group]:\n",
    "            euclidean_distance = np.linalg.norm(np.array(features) - np.array(predict))\n",
    "            distances.append([euclidean_distance, group])\n",
    "    \n",
    "    votes = [i[1] for i in sorted(distances)[:k]]\n",
    "    voted_result = Counter(votes).most_common(1)[0][0]\n",
    "    \n",
    "    return voted_result\n",
    "\n",
    "\n",
    "result = k_nearest_neighbors(dataset, predict_for, k=3)\n",
    "\n",
    "[[plt.scatter(ii[0], ii[1], s=100, color = i) for ii in dataset[i]] for i in dataset]\n",
    "plt.scatter(predict_for[0], predict_for[1], color = result)\n",
    "plt.show()"
   ]
  },
  {
   "cell_type": "code",
   "execution_count": 11,
   "metadata": {},
   "outputs": [
    {
     "name": "stdout",
     "output_type": "stream",
     "text": [
      "0.9712230215827338\n",
      "0.9712230215827338\n",
      "0.973621103117506\n",
      "0.9766187050359713\n",
      "0.9769784172661871\n",
      "0.9784172661870504\n",
      "0.9794450154162384\n",
      "0.9802158273381295\n",
      "0.9808153477218226\n",
      "0.981294964028777\n",
      "0.9823413996075867\n",
      "Accuracy 0.9823413996075867\n"
     ]
    },
    {
     "data": {
      "image/png": "[encoded data removed]",
      "text/plain": [
       "<matplotlib.figure.Figure at 0x995e358>"
      ]
     },
     "metadata": {},
     "output_type": "display_data"
    }
   ],
   "source": [
    "# Implementing our own KNN\n",
    "\n",
    "import numpy as np\n",
    "import matplotlib.pyplot as plt\n",
    "import warnings\n",
    "from matplotlib import style \n",
    "from collections import Counter\n",
    "import pandas as pd\n",
    "import random\n",
    "style.use('fivethirtyeight')\n",
    "\n",
    "def k_nearest_neighbors(data, predict, k=3):\n",
    "    if len(data) > k:\n",
    "        warnings.warn('K is said to a value less than voting groups')\n",
    "    \n",
    "    distances = []\n",
    "    for group in data:\n",
    "        for features in data[group]:\n",
    "            euclidean_distance = np.linalg.norm(np.array(features) - np.array(predict))\n",
    "            distances.append([euclidean_distance, group])\n",
    "    \n",
    "    votes = [i[1] for i in sorted(distances)[:k]]\n",
    "    voted_result = Counter(votes).most_common(1)[0][0]\n",
    "    confidence = Counter(votes).most_common(1)[0][1] / k\n",
    "    \n",
    "    return voted_result,confidence\n",
    "\n",
    "\n",
    "\n",
    "df = pd.read_csv('breast-cancer-wisconsin.data.txt')\n",
    "df.replace('?',-99999, inplace = True)\n",
    "df.drop(['id'],1, inplace = True)\n",
    "full_data = df.astype(float).values.tolist()\n",
    "random.shuffle(full_data)\n",
    "\n",
    "test_size = 0.2\n",
    "test_set = {2:[] , 4:[]}\n",
    "train_set = {2:[] , 4:[]}\n",
    "\n",
    "train_data = full_data[:-int(test_size*len(full_data))]\n",
    "test_data = full_data[-int(test_size*len(full_data)):]\n",
    "\n",
    "for i in train_data:\n",
    "    train_set[i[-1]].append(i[:-1])\n",
    "    \n",
    "for i in test_data:\n",
    "    test_set[i[-1]].append(i[:-1])\n",
    "        \n",
    "correct = 0\n",
    "total = 0\n",
    "knn = [i for i in range(3,25) if i % 2 != 0]\n",
    "acc_list = []\n",
    "        \n",
    "for nn in knn:\n",
    "    for i in test_set:\n",
    "        for data in test_set[i]:\n",
    "            result,confidence = k_nearest_neighbors(train_set, data, k=nn)\n",
    "            if result == i:\n",
    "                correct += 1\n",
    "            total += 1\n",
    "            \n",
    "    accuracy = correct/total\n",
    "    print(accuracy)\n",
    "    acc_list.append(accuracy)\n",
    "    \n",
    "print('Accuracy', correct/total)  # 0.9712230215827338  \n",
    "plt.plot(knn, acc_list)\n",
    "plt.show()"
   ]
  },
  {
   "cell_type": "code",
   "execution_count": 3,
   "metadata": {},
   "outputs": [
    {
     "name": "stdout",
     "output_type": "stream",
     "text": [
      "odd\n",
      "Even\n",
      "odd\n",
      "Even\n",
      "odd\n",
      "Even\n",
      "odd\n",
      "Even\n",
      "odd\n"
     ]
    }
   ],
   "source": [
    "for i in range(1,10):\n",
    "    if i%2 == 0:\n",
    "        print(\"Even\")\n",
    "    else:\n",
    "        print(\"odd\")"
   ]
  },
  {
   "cell_type": "code",
   "execution_count": 10,
   "metadata": {},
   "outputs": [
    {
     "name": "stdout",
     "output_type": "stream",
     "text": [
      "Confidence 0.74\n",
      "Confidence 0.70\n",
      "Confidence 1.00\n",
      "Accuracy 0.9784172661870504\n"
     ]
    }
   ],
   "source": [
    "\n",
    "# Implementing our own KNN\n",
    "\n",
    "import numpy as np\n",
    "import matplotlib.pyplot as plt\n",
    "import warnings\n",
    "from matplotlib import style \n",
    "from collections import Counter\n",
    "import pandas as pd\n",
    "import random\n",
    "style.use('fivethirtyeight')\n",
    "\n",
    "def k_nearest_neighbors(data, predict, k=3):\n",
    "    if len(data) > k:\n",
    "        warnings.warn('K is said to a value less than voting groups')\n",
    "    \n",
    "    distances = []\n",
    "    for group in data:\n",
    "        for features in data[group]:\n",
    "            euclidean_distance = np.linalg.norm(np.array(features) - np.array(predict))\n",
    "            distances.append([euclidean_distance, group])\n",
    "    \n",
    "    votes = [i[1] for i in sorted(distances)[:k]]\n",
    "    voted_result = Counter(votes).most_common(1)[0][0]\n",
    "    confidence = Counter(votes).most_common(1)[0][1] / k\n",
    "    \n",
    "    return voted_result, confidence\n",
    "\n",
    "\n",
    "\n",
    "df = pd.read_csv('breast-cancer-wisconsin.data.txt')\n",
    "df.replace('?',-99999, inplace = True)\n",
    "df.drop(['id'],1, inplace = True)\n",
    "full_data = df.astype(float).values.tolist()\n",
    "random.shuffle(full_data)\n",
    "\n",
    "test_size = 0.2\n",
    "test_set = {2:[] , 4:[]}\n",
    "train_set = {2:[] , 4:[]}\n",
    "\n",
    "train_data = full_data[:-int(test_size*len(full_data))]\n",
    "test_data = full_data[-int(test_size*len(full_data)):]\n",
    "\n",
    "for i in train_data:\n",
    "    train_set[i[-1]].append(i[:-1])\n",
    "    \n",
    "for i in test_data:\n",
    "    test_set[i[-1]].append(i[:-1])\n",
    "        \n",
    "correct = 0\n",
    "total = 0\n",
    "#knn = [i for i in range(1,50) if i % 2 != 0]\n",
    "acc_list = []\n",
    "        \n",
    "for i in test_set:\n",
    "    for data in test_set[i]:\n",
    "        result,confidence = k_nearest_neighbors(train_set, data, k=nn)\n",
    "        if result == i:\n",
    "            correct += 1\n",
    "        else:\n",
    "            print(\"Confidence\", \"%.2f\" % confidence)\n",
    "        total += 1\n",
    "\n",
    "    \n",
    "print('Accuracy', correct/total)  # 0.9712230215827338  \n",
    "#plt.plot(knn, acc_list)\n",
    "#plt.show()"
   ]
  }
 ],
 "metadata": {
  "kernelspec": {
   "display_name": "Python 3",
   "language": "python",
   "name": "python3"
  },
  "language_info": {
   "codemirror_mode": {
    "name": "ipython",
    "version": 3
   },
   "file_extension": ".py",
   "mimetype": "text/x-python",
   "name": "python",
   "nbconvert_exporter": "python",
   "pygments_lexer": "ipython3",
   "version": "3.6.4"
  }
 },
 "nbformat": 4,
 "nbformat_minor": 2
}
