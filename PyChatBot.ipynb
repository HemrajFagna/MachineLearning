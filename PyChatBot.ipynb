{
 "cells": [
  {
   "cell_type": "code",
   "execution_count": 2,
   "metadata": {},
   "outputs": [],
   "source": [
    "from chatterbot import ChatBot\n",
    "from chatterbot.trainers import ListTrainer\n",
    "import os"
   ]
  },
  {
   "cell_type": "code",
   "execution_count": 3,
   "metadata": {},
   "outputs": [],
   "source": [
    "bot= ChatBot('Bot')\n",
    "bot.set_trainer(ListTrainer)"
   ]
  },
  {
   "cell_type": "code",
   "execution_count": null,
   "metadata": {},
   "outputs": [],
   "source": [
    "for files in os.listdir('E:/Program Files/Anaconda3/Lib/site-packages/chatterbot_corpus/data/english/'):\n",
    "    data=open('E:/Program Files/Anaconda3/Lib/site-packages/chatterbot_corpus/data/english/'+files,'r').readlines()\n",
    "    bot.train(data)"
   ]
  },
  {
   "cell_type": "code",
   "execution_count": 1,
   "metadata": {},
   "outputs": [
    {
     "name": "stdout",
     "output_type": "stream",
     "text": [
      "You: hello\n"
     ]
    },
    {
     "ename": "NameError",
     "evalue": "name 'bot' is not defined",
     "output_type": "error",
     "traceback": [
      "\u001b[1;31m---------------------------------------------------------------------------\u001b[0m",
      "\u001b[1;31mNameError\u001b[0m                                 Traceback (most recent call last)",
      "\u001b[1;32m<ipython-input-1-1a7d188a2ad5>\u001b[0m in \u001b[0;36m<module>\u001b[1;34m()\u001b[0m\n\u001b[0;32m      2\u001b[0m     \u001b[0mmessage\u001b[0m\u001b[1;33m=\u001b[0m \u001b[0minput\u001b[0m\u001b[1;33m(\u001b[0m\u001b[1;34m'You: '\u001b[0m\u001b[1;33m)\u001b[0m\u001b[1;33m\u001b[0m\u001b[0m\n\u001b[0;32m      3\u001b[0m     \u001b[1;32mif\u001b[0m \u001b[0mmessage\u001b[0m\u001b[1;33m.\u001b[0m\u001b[0mstrip\u001b[0m\u001b[1;33m(\u001b[0m\u001b[1;33m)\u001b[0m\u001b[1;33m!=\u001b[0m\u001b[1;34m'Bye'\u001b[0m\u001b[1;33m:\u001b[0m\u001b[1;33m\u001b[0m\u001b[0m\n\u001b[1;32m----> 4\u001b[1;33m         \u001b[0mreply\u001b[0m\u001b[1;33m=\u001b[0m\u001b[0mbot\u001b[0m\u001b[1;33m.\u001b[0m\u001b[0mget_response\u001b[0m\u001b[1;33m(\u001b[0m\u001b[0mmessage\u001b[0m\u001b[1;33m)\u001b[0m\u001b[1;33m\u001b[0m\u001b[0m\n\u001b[0m\u001b[0;32m      5\u001b[0m         \u001b[0mprint\u001b[0m\u001b[1;33m(\u001b[0m\u001b[1;34m'ChatBot: '\u001b[0m\u001b[1;33m,\u001b[0m\u001b[0mreply\u001b[0m\u001b[1;33m)\u001b[0m\u001b[1;33m\u001b[0m\u001b[0m\n\u001b[0;32m      6\u001b[0m     \u001b[1;32mif\u001b[0m \u001b[0mmessage\u001b[0m\u001b[1;33m.\u001b[0m\u001b[0mstrip\u001b[0m\u001b[1;33m(\u001b[0m\u001b[1;33m)\u001b[0m \u001b[1;33m==\u001b[0m \u001b[1;34m'Bye'\u001b[0m\u001b[1;33m:\u001b[0m\u001b[1;33m\u001b[0m\u001b[0m\n",
      "\u001b[1;31mNameError\u001b[0m: name 'bot' is not defined"
     ]
    }
   ],
   "source": [
    "while True:\n",
    "    message= input('You: ')\n",
    "    if message.strip()!='Bye':\n",
    "        reply=bot.get_response(message)\n",
    "        print('ChatBot: ',reply)\n",
    "    if message.strip() == 'Bye':\n",
    "        print('ChatBot: Ok Bye')\n",
    "        break"
   ]
  },
  {
   "cell_type": "code",
   "execution_count": null,
   "metadata": {},
   "outputs": [],
   "source": [
    "\n",
    "'''\n",
    "\n",
    "You: which is your favourite movie\n",
    "ChatBot:  - I am a Real Madrid fan, and you?\n",
    "You: do you know narendra modi\n",
    "ChatBot:  - Beautiful is better than ugly.\n",
    "You: how to do you answer the questions\n",
    "ChatBot:  - Do you feel emotions?\n",
    "You: yes\n",
    "ChatBot:  yes you are\n",
    "You: tell me a joke\n",
    "ChatBot:  - Did you hear the one about the mountain goats in the andes? It was \"ba a a a a a d\".\n",
    "You: another\n",
    "ChatBot:  - Or something\n",
    "You: joke again\n",
    "ChatBot:  - you say\n",
    "You: tell me a joke\n",
    "ChatBot:  joke again\n",
    "You: i am not happy\n",
    "ChatBot:  - Why do you feel that I am deceiving you?\n",
    "You: because you are giving unexpected answers to me\n",
    "ChatBot:  - - You are not making sense\n",
    "You: ok tell me what is science\n",
    "ChatBot:  - A game played with a round ball by two teams of eleven players on a field with\n",
    "You: it's cricket you idiot\n",
    "ChatBot:  - - Something fun\n",
    "You: who is your creater\n",
    "ChatBot:  hemraj\n",
    "You: who is hemraj\n",
    "ChatBot:  - - what does hal stand for\n",
    "You: halirous\n",
    "ChatBot:  - - Tell me a joke\n",
    "You: you are brilliant\n",
    "ChatBot:  - who says i am resisting??\n",
    "You: which is your fav book\n",
    "ChatBot:  how to do you answer the questions\n",
    "You: games\n",
    "ChatBot:  yes you are\n",
    "You: ok Bye\n",
    "ChatBot:  hello\n",
    "You: Bye\n",
    "ChatBot: Ok Bye\n",
    "\n",
    "\n",
    "\n",
    "\n",
    "\n",
    "You: hello\n",
    "ChatBot:  - - Greetings!\n",
    "You: you are fool\n",
    "ChatBot:  - i certainly do at times.\n",
    "You: bye\n",
    "ChatBot:  hello\n",
    "You: i\n",
    "ChatBot:  do you have any name\n",
    "You: yes\n",
    "ChatBot:  - - Will you die\n",
    "You: yes\n",
    "ChatBot:  - - Will you die\n",
    "You: yes\n",
    "ChatBot:  - - Will you die\n",
    "You: no\n",
    "ChatBot:  you are fool\n",
    "You: are you mad\n",
    "ChatBot:  - I do not.\n",
    "You: yes you are\n",
    "ChatBot:  - - you are busy\n",
    "You: ya\n",
    "ChatBot:  yes\n",
    "You: what is weather right now\n",
    "ChatBot:  - A chatterbox.\n",
    "You: Bye\n",
    "ChatBot: Ok Bye\n",
    "\n",
    "'''"
   ]
  }
 ],
 "metadata": {
  "kernelspec": {
   "display_name": "Python 3",
   "language": "python",
   "name": "python3"
  },
  "language_info": {
   "codemirror_mode": {
    "name": "ipython",
    "version": 3
   },
   "file_extension": ".py",
   "mimetype": "text/x-python",
   "name": "python",
   "nbconvert_exporter": "python",
   "pygments_lexer": "ipython3",
   "version": "3.6.4"
  }
 },
 "nbformat": 4,
 "nbformat_minor": 2
}
