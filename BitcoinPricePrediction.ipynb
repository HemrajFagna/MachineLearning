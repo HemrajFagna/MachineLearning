{
 "cells": [
  {
   "cell_type": "code",
   "execution_count": 1,
   "metadata": {},
   "outputs": [
    {
     "name": "stderr",
     "output_type": "stream",
     "text": [
      "E:\\Program Files\\Anaconda3\\lib\\site-packages\\sklearn\\cross_validation.py:41: DeprecationWarning: This module was deprecated in version 0.18 in favor of the model_selection module into which all the refactored classes and functions are moved. Also note that the interface of the new CV iterators are different from that of this module. This module will be removed in 0.20.\n",
      "  \"This module will be removed in 0.20.\", DeprecationWarning)\n"
     ]
    }
   ],
   "source": [
    "import pandas as pd \n",
    "import math\n",
    "from sklearn import preprocessing, cross_validation, svm\n",
    "from sklearn.linear_model import LinearRegression\n",
    "import numpy as np\n",
    "import matplotlib.pyplot as plt\n",
    "from matplotlib import style\n",
    "import pickle\n",
    "style.use('ggplot')"
   ]
  },
  {
   "cell_type": "code",
   "execution_count": 2,
   "metadata": {},
   "outputs": [
    {
     "data": {
      "text/html": [
       "<div>\n",
       "<style scoped>\n",
       "    .dataframe tbody tr th:only-of-type {\n",
       "        vertical-align: middle;\n",
       "    }\n",
       "\n",
       "    .dataframe tbody tr th {\n",
       "        vertical-align: top;\n",
       "    }\n",
       "\n",
       "    .dataframe thead th {\n",
       "        text-align: right;\n",
       "    }\n",
       "</style>\n",
       "<table border=\"1\" class=\"dataframe\">\n",
       "  <thead>\n",
       "    <tr style=\"text-align: right;\">\n",
       "      <th></th>\n",
       "      <th>Date</th>\n",
       "      <th>Open</th>\n",
       "      <th>High</th>\n",
       "      <th>Low</th>\n",
       "      <th>Close</th>\n",
       "      <th>Volume</th>\n",
       "      <th>Market Cap</th>\n",
       "    </tr>\n",
       "  </thead>\n",
       "  <tbody>\n",
       "    <tr>\n",
       "      <th>1308</th>\n",
       "      <td>31-Dec-13</td>\n",
       "      <td>760.32</td>\n",
       "      <td>760.58</td>\n",
       "      <td>738.17</td>\n",
       "      <td>754.01</td>\n",
       "      <td>20,897,300.0</td>\n",
       "      <td>9,268,240,000</td>\n",
       "    </tr>\n",
       "    <tr>\n",
       "      <th>1309</th>\n",
       "      <td>30-Dec-13</td>\n",
       "      <td>741.35</td>\n",
       "      <td>766.60</td>\n",
       "      <td>740.24</td>\n",
       "      <td>756.13</td>\n",
       "      <td>20,707,700.0</td>\n",
       "      <td>9,037,000,000</td>\n",
       "    </tr>\n",
       "    <tr>\n",
       "      <th>1310</th>\n",
       "      <td>29-Dec-13</td>\n",
       "      <td>728.05</td>\n",
       "      <td>748.61</td>\n",
       "      <td>714.44</td>\n",
       "      <td>745.05</td>\n",
       "      <td>19,011,300.0</td>\n",
       "      <td>8,872,600,000</td>\n",
       "    </tr>\n",
       "    <tr>\n",
       "      <th>1311</th>\n",
       "      <td>28-Dec-13</td>\n",
       "      <td>737.98</td>\n",
       "      <td>747.06</td>\n",
       "      <td>705.35</td>\n",
       "      <td>727.83</td>\n",
       "      <td>32,505,800.0</td>\n",
       "      <td>8,990,850,000</td>\n",
       "    </tr>\n",
       "    <tr>\n",
       "      <th>1312</th>\n",
       "      <td>27-Dec-13</td>\n",
       "      <td>763.28</td>\n",
       "      <td>777.51</td>\n",
       "      <td>713.60</td>\n",
       "      <td>735.07</td>\n",
       "      <td>46,862,700.0</td>\n",
       "      <td>9,295,570,000</td>\n",
       "    </tr>\n",
       "  </tbody>\n",
       "</table>\n",
       "</div>"
      ],
      "text/plain": [
       "           Date    Open    High     Low   Close        Volume     Market Cap\n",
       "1308  31-Dec-13  760.32  760.58  738.17  754.01  20,897,300.0  9,268,240,000\n",
       "1309  30-Dec-13  741.35  766.60  740.24  756.13  20,707,700.0  9,037,000,000\n",
       "1310  29-Dec-13  728.05  748.61  714.44  745.05  19,011,300.0  8,872,600,000\n",
       "1311  28-Dec-13  737.98  747.06  705.35  727.83  32,505,800.0  8,990,850,000\n",
       "1312  27-Dec-13  763.28  777.51  713.60  735.07  46,862,700.0  9,295,570,000"
      ]
     },
     "execution_count": 2,
     "metadata": {},
     "output_type": "execute_result"
    }
   ],
   "source": [
    "df = pd.read_csv(\"C:/Users/Dell/Desktop/Python/new_bitcoin_price_Training.csv\")\n",
    "# df.set_index('day',inplace=True)\n",
    "df.tail()"
   ]
  },
  {
   "cell_type": "code",
   "execution_count": 3,
   "metadata": {},
   "outputs": [
    {
     "data": {
      "text/plain": [
       "str"
      ]
     },
     "execution_count": 3,
     "metadata": {},
     "output_type": "execute_result"
    }
   ],
   "source": [
    "type(df['Volume'][0])"
   ]
  },
  {
   "cell_type": "code",
   "execution_count": 4,
   "metadata": {},
   "outputs": [
    {
     "data": {
      "text/html": [
       "<div>\n",
       "<style scoped>\n",
       "    .dataframe tbody tr th:only-of-type {\n",
       "        vertical-align: middle;\n",
       "    }\n",
       "\n",
       "    .dataframe tbody tr th {\n",
       "        vertical-align: top;\n",
       "    }\n",
       "\n",
       "    .dataframe thead th {\n",
       "        text-align: right;\n",
       "    }\n",
       "</style>\n",
       "<table border=\"1\" class=\"dataframe\">\n",
       "  <thead>\n",
       "    <tr style=\"text-align: right;\">\n",
       "      <th></th>\n",
       "      <th>Close</th>\n",
       "      <th>HL_PCT</th>\n",
       "      <th>PCT_change</th>\n",
       "      <th>Volume</th>\n",
       "    </tr>\n",
       "  </thead>\n",
       "  <tbody>\n",
       "    <tr>\n",
       "      <th>0</th>\n",
       "      <td>2875.34</td>\n",
       "      <td>6.212210</td>\n",
       "      <td>4.056832</td>\n",
       "      <td>860,575,000.0</td>\n",
       "    </tr>\n",
       "    <tr>\n",
       "      <th>1</th>\n",
       "      <td>2757.18</td>\n",
       "      <td>4.298164</td>\n",
       "      <td>1.203572</td>\n",
       "      <td>705943000.0</td>\n",
       "    </tr>\n",
       "    <tr>\n",
       "      <th>2</th>\n",
       "      <td>2726.45</td>\n",
       "      <td>4.306298</td>\n",
       "      <td>-2.870304</td>\n",
       "      <td>803,746,000.0</td>\n",
       "    </tr>\n",
       "    <tr>\n",
       "      <th>3</th>\n",
       "      <td>2809.01</td>\n",
       "      <td>8.124699</td>\n",
       "      <td>4.824367</td>\n",
       "      <td>1,380,100,000.0</td>\n",
       "    </tr>\n",
       "    <tr>\n",
       "      <th>4</th>\n",
       "      <td>2671.78</td>\n",
       "      <td>6.483114</td>\n",
       "      <td>5.241638</td>\n",
       "      <td>789,104,000.0</td>\n",
       "    </tr>\n",
       "  </tbody>\n",
       "</table>\n",
       "</div>"
      ],
      "text/plain": [
       "     Close    HL_PCT  PCT_change           Volume\n",
       "0  2875.34  6.212210    4.056832    860,575,000.0\n",
       "1  2757.18  4.298164    1.203572      705943000.0\n",
       "2  2726.45  4.306298   -2.870304    803,746,000.0\n",
       "3  2809.01  8.124699    4.824367  1,380,100,000.0\n",
       "4  2671.78  6.483114    5.241638    789,104,000.0"
      ]
     },
     "execution_count": 4,
     "metadata": {},
     "output_type": "execute_result"
    }
   ],
   "source": [
    "df['HL_PCT'] = (df['High'] - df['Low'])/ df['Low'] * 100\n",
    "df['PCT_change'] = (df['Close'] - df['Open'])/ df['Open'] * 100\n",
    "df = df[['Close','HL_PCT','PCT_change','Volume']]\n",
    "df.head()"
   ]
  },
  {
   "cell_type": "code",
   "execution_count": null,
   "metadata": {},
   "outputs": [],
   "source": []
  },
  {
   "cell_type": "code",
   "execution_count": 5,
   "metadata": {},
   "outputs": [
    {
     "name": "stdout",
     "output_type": "stream",
     "text": [
      "     Close    HL_PCT  PCT_change           Volume    label\n",
      "0  2875.34  6.212210    4.056832    860,575,000.0  1120.54\n",
      "1  2757.18  4.298164    1.203572      705943000.0  1054.23\n",
      "2  2726.45  4.306298   -2.870304    803,746,000.0  1036.74\n",
      "3  2809.01  8.124699    4.824367  1,380,100,000.0   973.82\n",
      "4  2671.78  6.483114    5.241638    789,104,000.0  1100.23 \n",
      " 132\n"
     ]
    },
    {
     "data": {
      "text/html": [
       "<div>\n",
       "<style scoped>\n",
       "    .dataframe tbody tr th:only-of-type {\n",
       "        vertical-align: middle;\n",
       "    }\n",
       "\n",
       "    .dataframe tbody tr th {\n",
       "        vertical-align: top;\n",
       "    }\n",
       "\n",
       "    .dataframe thead th {\n",
       "        text-align: right;\n",
       "    }\n",
       "</style>\n",
       "<table border=\"1\" class=\"dataframe\">\n",
       "  <thead>\n",
       "    <tr style=\"text-align: right;\">\n",
       "      <th></th>\n",
       "      <th>Close</th>\n",
       "      <th>HL_PCT</th>\n",
       "      <th>PCT_change</th>\n",
       "      <th>Volume</th>\n",
       "      <th>label</th>\n",
       "    </tr>\n",
       "  </thead>\n",
       "  <tbody>\n",
       "    <tr>\n",
       "      <th>1308</th>\n",
       "      <td>754.01</td>\n",
       "      <td>3.035886</td>\n",
       "      <td>-0.829914</td>\n",
       "      <td>20,897,300.0</td>\n",
       "      <td>NaN</td>\n",
       "    </tr>\n",
       "    <tr>\n",
       "      <th>1309</th>\n",
       "      <td>756.13</td>\n",
       "      <td>3.561007</td>\n",
       "      <td>1.993660</td>\n",
       "      <td>20,707,700.0</td>\n",
       "      <td>NaN</td>\n",
       "    </tr>\n",
       "    <tr>\n",
       "      <th>1310</th>\n",
       "      <td>745.05</td>\n",
       "      <td>4.782767</td>\n",
       "      <td>2.335004</td>\n",
       "      <td>19,011,300.0</td>\n",
       "      <td>NaN</td>\n",
       "    </tr>\n",
       "    <tr>\n",
       "      <th>1311</th>\n",
       "      <td>727.83</td>\n",
       "      <td>5.913376</td>\n",
       "      <td>-1.375376</td>\n",
       "      <td>32,505,800.0</td>\n",
       "      <td>NaN</td>\n",
       "    </tr>\n",
       "    <tr>\n",
       "      <th>1312</th>\n",
       "      <td>735.07</td>\n",
       "      <td>8.955998</td>\n",
       "      <td>-3.695891</td>\n",
       "      <td>46,862,700.0</td>\n",
       "      <td>NaN</td>\n",
       "    </tr>\n",
       "  </tbody>\n",
       "</table>\n",
       "</div>"
      ],
      "text/plain": [
       "       Close    HL_PCT  PCT_change        Volume  label\n",
       "1308  754.01  3.035886   -0.829914  20,897,300.0    NaN\n",
       "1309  756.13  3.561007    1.993660  20,707,700.0    NaN\n",
       "1310  745.05  4.782767    2.335004  19,011,300.0    NaN\n",
       "1311  727.83  5.913376   -1.375376  32,505,800.0    NaN\n",
       "1312  735.07  8.955998   -3.695891  46,862,700.0    NaN"
      ]
     },
     "execution_count": 5,
     "metadata": {},
     "output_type": "execute_result"
    }
   ],
   "source": [
    "forecast = 'Close'\n",
    "df.fillna(-99999,inplace=True)\n",
    "forecast_out = int(math.ceil(0.1*len(df)))\n",
    "df['label'] = df[forecast].shift(-forecast_out)\n",
    "print(df.head(),'\\n',forecast_out)\n",
    "df.tail()"
   ]
  },
  {
   "cell_type": "code",
   "execution_count": null,
   "metadata": {},
   "outputs": [],
   "source": []
  },
  {
   "cell_type": "code",
   "execution_count": 6,
   "metadata": {
    "collapsed": true
   },
   "outputs": [
    {
     "name": "stdout",
     "output_type": "stream",
     "text": [
      "[ 468.17797193  390.66330543  367.95274572  424.86029332  385.65720422\n",
      "  359.03847888  401.73282975  400.23112708  471.44344621  386.28623126\n",
      "  478.39635559  476.25860693  609.22705167  553.82147161  358.01675265\n",
      "  361.57874056  532.58634737  359.75845565  527.00786261  403.17408675\n",
      "  578.63751104  478.21488229  659.90955462  472.77270214  486.14632215\n",
      "  365.25033556  369.45025072  478.44820884  379.90927958 1244.99109233\n",
      "  717.70816549  538.17454771  469.48036284  418.98466309  500.45629941\n",
      "  548.85243559  402.06939849  380.11561463  615.85052777  448.63716786\n",
      "  406.70842841  482.71433749 1071.42922085  433.77720793  428.32278391\n",
      "  532.77234016  425.38858598 1128.74575432  492.34859448  662.41330425\n",
      "  413.01896224  469.09170405  354.41681171  363.51514855  378.48098083\n",
      "  519.86918954  369.16568003  436.55816484  364.53414423  373.50763799\n",
      "  584.76849615  436.30620569  416.72960854  371.23193564  361.47367107\n",
      "  425.78077943  523.63766874  427.37466802  510.27967877 1199.63135805\n",
      "  372.00892062  355.98110623  410.30343024  408.8998262   405.50152721\n",
      "  480.77857673  620.49476108  863.65734763  414.5444955   513.48193406\n",
      "  422.85431318  413.99291842  373.02798964  470.60701526  416.50898839\n",
      "  481.17508822  394.21028274  366.46397567  397.76296517  479.13827625\n",
      "  360.96363117  392.93341428 1066.18338773  361.69067706 1105.90922919\n",
      "  470.95472188  696.34613921  373.01021472 1091.52479421  355.7134542\n",
      "  362.86299693  476.27628093  414.57328077  359.02656865  480.2179657\n",
      "  354.08953383  490.0976199   365.07431293  355.41350448  406.77685427\n",
      "  410.88132088 1098.25298281  360.12549779  444.2241124   407.51631491\n",
      "  456.35113673  358.86975638  485.73732326  427.26905755  491.395115\n",
      "  463.96224479  435.68146406  376.47579242  369.29265959  474.7428939\n",
      "  439.93616028  519.46897319  363.03243625  603.50942592  475.17901798\n",
      "  535.38993575  396.69064307  529.36589807  422.39998164  655.10225278\n",
      "  369.9671048   519.22701093  407.57717592  419.1364753   492.69760692\n",
      "  369.44475098  415.79205105 1105.98291405  424.41676884 1130.61553369\n",
      "  421.9338631   367.08065264  531.64013528  638.6605728   423.818902\n",
      "  422.48292381  372.17194707  400.04164133  623.37189308  424.98783121\n",
      "  373.42304874  493.99073737  430.43350483 1222.86350813  394.82837061\n",
      "  440.91551665  420.11229453  606.75289503  511.38982459  351.9484408\n",
      " 1169.30090527  386.43733664  413.72620028  370.92223883  453.86698092\n",
      "  652.30114293  398.58366344  359.4715858   468.02846422  531.84744679\n",
      "  368.03234768  388.44428485 1174.37984275  359.37405758  385.58975034\n",
      "  356.0390385   424.59368457  366.28212124  663.31020125  422.00282421\n",
      "  404.88275847  357.47221896  494.0180548   464.83622716  427.38118778\n",
      "  499.38379279  394.17682151  358.19154001  672.03430636  670.28730221\n",
      "  431.274876    482.74558945  407.385911    401.87465148  475.9919603\n",
      "  384.63710807  490.29939795  408.33064346 1142.98980107  374.9054694\n",
      "  492.90712667  420.09679377  485.98297121  373.33887057  374.67223271\n",
      "  357.64345731  356.0384186   368.51547687  477.26503226  496.19927946\n",
      "  353.31663956  476.21492089  526.14072821  356.49297819  357.51445528\n",
      "  406.93822653  422.61935083  684.06258003  391.51177218  357.1770065\n",
      "  357.66605579  507.21482865  471.76012577  580.10273251  375.24185401\n",
      " 1106.65242869  475.27707183  475.36429454  667.62799366  356.18518289\n",
      "  414.76136264  472.04817903] 0.6283156777777217\n"
     ]
    }
   ],
   "source": [
    "X = np.array(df[['Close','HL_PCT','PCT_change']])\n",
    "X = preprocessing.scale(X)\n",
    "\n",
    "X_test = X[-forecast_out:]\n",
    "X = X[:-forecast_out]\n",
    "\n",
    "df.dropna(inplace=True)\n",
    "y = np.array(df['label'])\n",
    "\n",
    "X_train, X_test, y_train, y_test = cross_validation.train_test_split(X,y,test_size=0.2)\n",
    "\n",
    "clf = LinearRegression()\n",
    "clf.fit(X_train,y_train)\n",
    "accuracy = clf.score(X_test,y_test)\n",
    "predicted = clf.predict(X_test)\n",
    "print(predicted, accuracy) #since the input data we got in decreasing price value"
   ]
  }
 ],
 "metadata": {
  "kernelspec": {
   "display_name": "Python 3",
   "language": "python",
   "name": "python3"
  },
  "language_info": {
   "codemirror_mode": {
    "name": "ipython",
    "version": 3
   },
   "file_extension": ".py",
   "mimetype": "text/x-python",
   "name": "python",
   "nbconvert_exporter": "python",
   "pygments_lexer": "ipython3",
   "version": "3.6.4"
  }
 },
 "nbformat": 4,
 "nbformat_minor": 2
}
