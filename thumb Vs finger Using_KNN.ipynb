{
 "cells": [
  {
   "cell_type": "code",
   "execution_count": 4,
   "metadata": {},
   "outputs": [
    {
     "name": "stderr",
     "output_type": "stream",
     "text": [
      "100%|██████████| 64/64 [00:00<00:00, 132.50it/s]\n",
      "100%|██████████| 18/18 [00:00<00:00, 132.35it/s]\n"
     ]
    },
    {
     "data": {
      "text/plain": [
       "0.9444444444444444"
      ]
     },
     "execution_count": 4,
     "metadata": {},
     "output_type": "execute_result"
    }
   ],
   "source": [
    "# KNN\n",
    "from sklearn import preprocessing, cross_validation, neighbors\n",
    "import numpy as np\n",
    "import os\n",
    "import cv2\n",
    "from random import shuffle\n",
    "from tqdm import tqdm\n",
    "\n",
    "TRAIN_DIR = 'C:/Users/Dell/Desktop/finger images'\n",
    "TEST_DIR = 'C:/Users/Dell/Desktop/test images'\n",
    "IMG_SIZE = 32\n",
    "#LR = 1e-3 #learning rate\n",
    "\n",
    "def label_img(img):\n",
    "    word_label = img.split('.')[0] # finger,thumb name extration from img name\n",
    "    #if word_label == 'thumb': return [1,0] # thumb 1 finger 0 \n",
    "    #elif word_label == 'finger': return [0, 1]\n",
    "    return word_label\n",
    "\n",
    "\n",
    "def create_train_data():\n",
    "    training_data = []\n",
    "    labels = []\n",
    "    for img in tqdm(os.listdir(TRAIN_DIR)):\n",
    "        label = label_img(img)\n",
    "        labels.append(label)\n",
    "        path = os.path.join(TRAIN_DIR, img)\n",
    "        img = cv2.resize( cv2.imread(path, cv2.IMREAD_GRAYSCALE), (IMG_SIZE,IMG_SIZE)).flatten()\n",
    "        training_data.append(img)\n",
    "    #shuffle(training_data)\n",
    "    #shuffle(labels)\n",
    "    #np.save('train_data.npy',training_data)\n",
    "    return training_data, labels\n",
    "\n",
    "def process_test_data():\n",
    "    testing_data = []\n",
    "    testing_labels = []\n",
    "    for img in tqdm(os.listdir(TEST_DIR)):\n",
    "        label = label_img(img)\n",
    "        testing_labels.append(label)\n",
    "        path = os.path.join(TEST_DIR, img)\n",
    "        img = cv2.resize( cv2.imread(path, cv2.IMREAD_GRAYSCALE), (IMG_SIZE,IMG_SIZE)).flatten()\n",
    "        testing_data.append(img)\n",
    "    return testing_data, testing_labels\n",
    "\n",
    "\n",
    "train_data, labels = create_train_data()\n",
    "\n",
    "train_data = np.array(train_data)\n",
    "labels = np.array(labels)\n",
    "\n",
    "X = train_data\n",
    "Y = labels\n",
    "\n",
    "testing_data, testing_labels = process_test_data()\n",
    "\n",
    "testing_data = np.array(testing_data)\n",
    "testing_labels = np.array(testing_labels)\n",
    "\n",
    "#X_train, X_test, y_train, y_test = cross_validation.train_test_split(X, y, test_size= 0.2)\n",
    "clf = neighbors.KNeighborsClassifier()\n",
    "clf.fit(X, Y)\n",
    "accuracy = clf.score(testing_data, testing_labels)\n",
    "accuracy"
   ]
  },
  {
   "cell_type": "code",
   "execution_count": 5,
   "metadata": {},
   "outputs": [
    {
     "data": {
      "text/plain": [
       "array(['finger', 'finger', 'finger', 'finger', 'finger', 'finger',\n",
       "       'finger', 'finger', 'finger', 'finger', 'finger', 'finger',\n",
       "       'thumb', 'thumb', 'thumb', 'thumb', 'thumb', 'thumb'], dtype='<U6')"
      ]
     },
     "execution_count": 5,
     "metadata": {},
     "output_type": "execute_result"
    }
   ],
   "source": [
    "clf.predict(testing_data)"
   ]
  },
  {
   "cell_type": "code",
   "execution_count": 6,
   "metadata": {
    "scrolled": true
   },
   "outputs": [
    {
     "data": {
      "text/plain": [
       "array(['finger', 'finger', 'finger', 'finger', 'finger', 'finger',\n",
       "       'finger', 'finger', 'finger', 'finger', 'finger', 'thumb', 'thumb',\n",
       "       'thumb', 'thumb', 'thumb', 'thumb', 'thumb'], dtype='<U6')"
      ]
     },
     "execution_count": 6,
     "metadata": {},
     "output_type": "execute_result"
    }
   ],
   "source": [
    "testing_labels"
   ]
  }
 ],
 "metadata": {
  "kernelspec": {
   "display_name": "Python 3",
   "language": "python",
   "name": "python3"
  },
  "language_info": {
   "codemirror_mode": {
    "name": "ipython",
    "version": 3
   },
   "file_extension": ".py",
   "mimetype": "text/x-python",
   "name": "python",
   "nbconvert_exporter": "python",
   "pygments_lexer": "ipython3",
   "version": "3.6.4"
  }
 },
 "nbformat": 4,
 "nbformat_minor": 2
}
